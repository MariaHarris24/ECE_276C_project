{
 "cells": [
  {
   "cell_type": "code",
   "execution_count": 1,
   "metadata": {},
   "outputs": [
    {
     "name": "stdout",
     "output_type": "stream",
     "text": [
      "Using device: GeForce GTX 1050\n"
     ]
    }
   ],
   "source": [
    "from math import sqrt\n",
    "import random\n",
    "import copy\n",
    "import os\n",
    "import time\n",
    "\n",
    "import numpy as np\n",
    "\n",
    "import matplotlib.pyplot as plt\n",
    "%matplotlib inline\n",
    "\n",
    "from IPython import display\n",
    "\n",
    "#environment\n",
    "import gym\n",
    "import pybullet\n",
    "import pybulletgym.envs\n",
    "import pybullet_envs\n",
    "\n",
    "\n",
    "#pytorch\n",
    "import torch\n",
    "from torch.autograd import Variable\n",
    "import torch.nn as nn\n",
    "import torch.nn.functional as F\n",
    "\n",
    "# device setup\n",
    "device = torch.device(\"cuda\" if torch.cuda.is_available() else \"cpu\")\n",
    "\n",
    "if torch.cuda.is_available():\n",
    "    print('Using device:', torch.cuda.get_device_name(0))\n",
    "else:\n",
    "    print('Using device:', device)"
   ]
  },
  {
   "cell_type": "code",
   "execution_count": 2,
   "metadata": {},
   "outputs": [
    {
     "name": "stdout",
     "output_type": "stream",
     "text": [
      "Using device: GeForce GTX 1050\n"
     ]
    },
    {
     "name": "stderr",
     "output_type": "stream",
     "text": [
      "/home/roumen/anaconda3/envs/gymenv/lib/python3.6/site-packages/torch/serialization.py:658: SourceChangeWarning: source code of class 'torch.nn.modules.linear.Linear' has changed. you can retrieve the original source code by accessing the object's source attribute or set `torch.nn.Module.dump_patches = True` and use the patch tool to revert the changes.\n",
      "  warnings.warn(msg, SourceChangeWarning)\n"
     ]
    }
   ],
   "source": [
    "env_name =  'Humanoid-v2'\n",
    "env = gym.make(env_name)\n",
    "\n",
    "myddpg = torch.load(\"Td3_humanoid.pt\")\n",
    "\n",
    "RANDOM_SEED = 0\n",
    "\n",
    "torch.manual_seed(RANDOM_SEED)\n",
    "np.random.seed(RANDOM_SEED)"
   ]
  },
  {
   "cell_type": "code",
   "execution_count": 3,
   "metadata": {},
   "outputs": [
    {
     "data": {
      "text/plain": [
       "<function matplotlib.pyplot.gcf()>"
      ]
     },
     "metadata": {},
     "output_type": "display_data"
    },
    {
     "data": {
      "image/png": "[encoded data removed]",
      "text/plain": [
       "<Figure size 432x288 with 1 Axes>"
      ]
     },
     "metadata": {
      "needs_background": "light"
     },
     "output_type": "display_data"
    },
    {
     "name": "stdout",
     "output_type": "stream",
     "text": [
      "6.589087195004254\n"
     ]
    }
   ],
   "source": [
    "state = env.reset()\n",
    "env.seed(RANDOM_SEED)\n",
    "env.action_space.seed(RANDOM_SEED)\n",
    "\n",
    "total_reward = 0\n",
    "step = 0\n",
    "done = False\n",
    "\n",
    "plt.figure()\n",
    "t = 'seed = {}, step {}'.format(RANDOM_SEED, step)\n",
    "plt.imshow(env.render(mode='rgb_array'))\n",
    "display.clear_output(wait=True)\n",
    "display.display(plt.gcf)\n",
    "plt.title(t)\n",
    "plt.savefig(\"frames/\" + t.replace(':', ' - '), dpi=150)\n",
    "plt.show()\n",
    "while not done:\n",
    "    # env.env._cam_dist=1\n",
    "    # env.env._cam_pitch=-90\n",
    "    action = myddpg.actor(torch.FloatTensor(state).to(device)).detach().cpu().squeeze().numpy()\n",
    "    next_state, r, done, _ = env.step(action)\n",
    "    state = next_state\n",
    "    step += 1\n",
    "    total_reward += r\n",
    "    \n",
    "    plt.figure()\n",
    "    t = 'seed = {}, step {}'.format(RANDOM_SEED, step)\n",
    "    plt.imshow(env.render(mode='rgb_array'))\n",
    "    display.clear_output(wait=True)\n",
    "    display.display(plt.gcf)\n",
    "    plt.title(t)\n",
    "    plt.savefig(\"frames/\" + t.replace(':', ' - ') + \".png\", dpi=150)\n",
    "    plt.show()\n",
    "\n",
    "print(total_reward / step)"
   ]
  },
  {
   "cell_type": "code",
   "execution_count": null,
   "metadata": {},
   "outputs": [],
   "source": []
  }
 ],
 "metadata": {
  "kernelspec": {
   "display_name": "Python 3",
   "language": "python",
   "name": "python3"
  },
  "language_info": {
   "codemirror_mode": {
    "name": "ipython",
    "version": 3
   },
   "file_extension": ".py",
   "mimetype": "text/x-python",
   "name": "python",
   "nbconvert_exporter": "python",
   "pygments_lexer": "ipython3",
   "version": "3.6.10"
  }
 },
 "nbformat": 4,
 "nbformat_minor": 4
}
