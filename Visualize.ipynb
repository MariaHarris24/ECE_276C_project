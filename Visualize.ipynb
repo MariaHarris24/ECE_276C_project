{
 "cells": [
  {
   "cell_type": "markdown",
   "metadata": {},
   "source": [
    "Be sure to install `ffmpeg` and `imageio-ffmpeg` inside this venv, and then update them:\n",
    "\n",
    "```\n",
    "$ conda install ffmpeg imageio-ffmpeg -c conda-forge\n",
    "$ conda update ffmpeg\n",
    "```\n",
    "\n",
    "then restart the kernel before running this notebook"
   ]
  },
  {
   "cell_type": "code",
   "execution_count": 1,
   "metadata": {},
   "outputs": [
    {
     "name": "stdout",
     "output_type": "stream",
     "text": [
      "Using device: GeForce GTX 1050\n",
      "Using device: GeForce GTX 1050\n"
     ]
    }
   ],
   "source": [
    "from math import sqrt\n",
    "import random\n",
    "import copy\n",
    "import os\n",
    "import sys\n",
    "import time\n",
    "import pickle\n",
    "\n",
    "import numpy as np\n",
    "from PIL import Image\n",
    "import imageio\n",
    "\n",
    "import matplotlib.pyplot as plt\n",
    "%matplotlib inline\n",
    "\n",
    "from IPython import display\n",
    "\n",
    "#environment\n",
    "import gym\n",
    "import pybullet\n",
    "import pybulletgym.envs\n",
    "import pybullet_envs\n",
    "\n",
    "\n",
    "#pytorch\n",
    "import torch\n",
    "from torch.autograd import Variable\n",
    "import torch.nn as nn\n",
    "import torch.nn.functional as F\n",
    "\n",
    "import TD3\n",
    "\n",
    "# device setup\n",
    "device = torch.device('cuda' if torch.cuda.is_available() else 'cpu')\n",
    "\n",
    "if torch.cuda.is_available():\n",
    "    print('Using device:', torch.cuda.get_device_name(0))\n",
    "else:\n",
    "    print('Using device:', device)"
   ]
  },
  {
   "cell_type": "code",
   "execution_count": 4,
   "metadata": {},
   "outputs": [
    {
     "data": {
      "text/plain": [
       "'/home/roumen/Documents/GitHub/ECE_276C_project'"
      ]
     },
     "execution_count": 4,
     "metadata": {},
     "output_type": "execute_result"
    }
   ],
   "source": []
  },
  {
   "cell_type": "code",
   "execution_count": 14,
   "metadata": {},
   "outputs": [
    {
     "name": "stderr",
     "output_type": "stream",
     "text": [
      "/home/roumen/anaconda3/envs/gymenv/lib/python3.6/site-packages/torch/serialization.py:658: SourceChangeWarning: source code of class 'torch.nn.modules.linear.Linear' has changed. you can retrieve the original source code by accessing the object's source attribute or set `torch.nn.Module.dump_patches = True` and use the patch tool to revert the changes.\n",
      "  warnings.warn(msg, SourceChangeWarning)\n"
     ]
    }
   ],
   "source": [
    "SAVE_INDIVIDUAL_FRAMES = False\n",
    "SHOW_PLOT = False\n",
    "\n",
    "env_name = 'HalfCheetah-v2' #'Walker2d-v2'\n",
    "directory = './Results_maria/Results/HalfCheetah-v2_all_multiTD3/run1/'\n",
    "\n",
    "env = gym.make(env_name)\n",
    "\n",
    "policy = torch.load(directory + 'Td3_HalfCheetah_run1.pt')\n",
    "\n",
    "RANDOM_SEED = 0\n",
    "\n",
    "torch.manual_seed(RANDOM_SEED)\n",
    "np.random.seed(RANDOM_SEED)"
   ]
  },
  {
   "cell_type": "code",
   "execution_count": 15,
   "metadata": {},
   "outputs": [
    {
     "name": "stdout",
     "output_type": "stream",
     "text": [
      "12.041164561816375\n"
     ]
    }
   ],
   "source": [
    "state = env.reset()\n",
    "env.seed(RANDOM_SEED)\n",
    "env.action_space.seed(RANDOM_SEED)\n",
    "\n",
    "total_reward = 0\n",
    "step = 0\n",
    "done = False\n",
    "\n",
    "frames = []\n",
    "frames.append(env.render(mode='rgb_array'))\n",
    "\n",
    "if SHOW_PLOT: \n",
    "    plt.figure()\n",
    "    t = 'seed = {}, step {}'.format(RANDOM_SEED, step)\n",
    "    plt.imshow(frames[-1])\n",
    "    display.clear_output(wait=True)\n",
    "    display.display(plt.gcf)\n",
    "    plt.title(t)\n",
    "    \n",
    "    if SAVE_INDIVIDUAL_FRAMES: \n",
    "        plt.savefig(\"frames/\" + t.replace(':', ' - '), dpi=150)\n",
    "    \n",
    "    plt.show()\n",
    "\n",
    "while not done:\n",
    "    # env.env._cam_dist=1\n",
    "    # env.env._cam_pitch=-90\n",
    "    #action = policy.actor(torch.FloatTensor(state).to(device)).detach().cpu().squeeze().numpy()\n",
    "    action = policy.select_action(np.array(state))\n",
    "    next_state, reward, done, _ = env.step(action)\n",
    "    state = next_state\n",
    "    step += 1\n",
    "    total_reward += reward\n",
    "    frames.append(env.render(mode='rgb_array'))\n",
    "    \n",
    "    if SHOW_PLOT:\n",
    "        plt.figure()\n",
    "        t = 'seed = {}, step {}'.format(RANDOM_SEED, step)\n",
    "        plt.imshow(frames[-1])\n",
    "        display.clear_output(wait=True)\n",
    "        display.display(plt.gcf)\n",
    "        plt.title(t)\n",
    "\n",
    "        if SAVE_INDIVIDUAL_FRAMES: \n",
    "            plt.savefig(directory + 'frames/' + t.replace(':', ' - '), dpi=150)\n",
    "        \n",
    "        plt.show()\n",
    "\n",
    "print(total_reward / step)"
   ]
  },
  {
   "cell_type": "code",
   "execution_count": 16,
   "metadata": {},
   "outputs": [
    {
     "name": "stderr",
     "output_type": "stream",
     "text": [
      "IMAGEIO FFMPEG_WRITER WARNING: input image is not divisible by macro_block_size=16, resizing from (500, 500) to (512, 512) to ensure video compatibility with most codecs and players. To prevent resizing, make your input image divisible by the macro_block_size or set the macro_block_size to 1 (risking incompatibility).\n"
     ]
    }
   ],
   "source": [
    "duration = 50 # milliseconds for one frame\n",
    "fps = 1000 / duration\n",
    "\n",
    "images = [Image.fromarray(np.array(f)) for f in frames]\n",
    "images[0].save(directory + env_name + '.gif',\n",
    "               save_all=True, \n",
    "               append_images=images[1:], \n",
    "               optimize=False, \n",
    "               duration=duration,\n",
    "               loop=0)\n",
    "imageio.mimsave(directory + env_name + '.mp4', images, \n",
    "                fps=fps, \n",
    "                codec='libx264', \n",
    "                quality=10, \n",
    "                pixelformat='yuvj444p')"
   ]
  },
  {
   "cell_type": "code",
   "execution_count": null,
   "metadata": {},
   "outputs": [],
   "source": []
  }
 ],
 "metadata": {
  "kernelspec": {
   "display_name": "Python 3",
   "language": "python",
   "name": "python3"
  },
  "language_info": {
   "codemirror_mode": {
    "name": "ipython",
    "version": 3
   },
   "file_extension": ".py",
   "mimetype": "text/x-python",
   "name": "python",
   "nbconvert_exporter": "python",
   "pygments_lexer": "ipython3",
   "version": "3.6.10"
  }
 },
 "nbformat": 4,
 "nbformat_minor": 4
}
